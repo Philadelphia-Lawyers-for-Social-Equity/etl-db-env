{
 "cells": [
  {
   "cell_type": "code",
   "execution_count": 2,
   "metadata": {},
   "outputs": [
    {
     "ename": "SyntaxError",
     "evalue": "invalid syntax (<ipython-input-2-94806fa64066>, line 3)",
     "output_type": "error",
     "traceback": [
      "\u001b[0;36m  File \u001b[0;32m\"<ipython-input-2-94806fa64066>\"\u001b[0;36m, line \u001b[0;32m3\u001b[0m\n\u001b[0;31m    postgresql://{postgres}:{changeme}@{localhost:5432}/{default_db}\u001b[0m\n\u001b[0m                ^\u001b[0m\n\u001b[0;31mSyntaxError\u001b[0m\u001b[0;31m:\u001b[0m invalid syntax\n"
     ]
    }
   ],
   "source": [
    "%reload_ext sql\n",
    "%%sql\n",
    "postgresql://{postgres}:{changeme}@{localhost:5432}/{default_db}"
   ]
  },
  {
   "cell_type": "code",
   "execution_count": 3,
   "metadata": {},
   "outputs": [],
   "source": [
    "from IPython.display import display_html\n",
    "\n",
    "host='localhost'\n",
    "database='default_db'\n",
    "username='postgres'"
   ]
  },
  {
   "cell_type": "code",
   "execution_count": null,
   "metadata": {},
   "outputs": [],
   "source": [
    "psql_cmd='\\copy (SELECT * FROM basic) TO ~/basic.csv WITH DELIMITER \\'|\\' CSV HEADER'\n",
    "psql_out = !psql -H -h {host} -d {database} -U {username} -c \"{psql_cmd}\"\n",
    "\n",
    "display_html(''.join(psql_out), raw=True)"
   ]
  }
 ],
 "metadata": {
  "kernelspec": {
   "display_name": "Python 3",
   "language": "python",
   "name": "python3"
  },
  "language_info": {
   "codemirror_mode": {
    "name": "ipython",
    "version": 3
   },
   "file_extension": ".py",
   "mimetype": "text/x-python",
   "name": "python",
   "nbconvert_exporter": "python",
   "pygments_lexer": "ipython3",
   "version": "3.7.3"
  }
 },
 "nbformat": 4,
 "nbformat_minor": 2
}
