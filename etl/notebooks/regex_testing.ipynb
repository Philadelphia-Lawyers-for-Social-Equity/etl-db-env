{
 "cells": [
  {
   "cell_type": "code",
   "execution_count": 5,
   "metadata": {},
   "outputs": [],
   "source": [
    "import re"
   ]
  },
  {
   "cell_type": "code",
   "execution_count": 6,
   "metadata": {},
   "outputs": [],
   "source": [
    "a = \"\"\"Migrated Dispositional Event\n",
    "\n",
    "1 / CARRYING FIREARMS WITHOUT LICENSE \n",
    "\n",
    "Temin, Carolyn Engel\n",
    "\n",
    "Financial Assessments\n",
    "\n",
    "2 / CARRYING FIRE ARMS/PUBLIC STREET OR \n",
    "PLACE \n",
    "\n",
    "Temin, Carolyn Engel\n",
    "\n",
    "3 / THEFT BY UNLAWFUL TAKING OR DISPOSITION \n",
    "\n",
    "Temin, Carolyn Engel\n",
    "\n",
    "Confinement\n",
    "\n",
    "4 / THEFT BY RECEIVING STOLEN PROPERTY \n",
    "\n",
    "Temin, Carolyn Engel\"\"\""
   ]
  },
  {
   "cell_type": "code",
   "execution_count": 75,
   "metadata": {},
   "outputs": [],
   "source": [
    "b = \"\"\"Statute\n",
    "18 § 6106\n",
    "18 § 6108\n",
    "\n",
    "18 § 3921\n",
    "\n",
    "18 § 3925\n",
    "\n",
    "CHARGES\"\"\"\n",
    "\n",
    "# note: value can also be 18 § 3929 §§ A1, need to edit regex for"
   ]
  },
  {
   "cell_type": "code",
   "execution_count": 83,
   "metadata": {},
   "outputs": [],
   "source": [
    "pattern = '[0-9]+\\s\\u00A7\\s[0-9]+'#\\D+' #\\s[A-Z]+\\s[A-Z]+\n",
    "\n",
    "test_strings = [b]\n",
    "pattern = re.compile(r'%s' % pattern)"
   ]
  },
  {
   "cell_type": "code",
   "execution_count": 84,
   "metadata": {},
   "outputs": [
    {
     "name": "stdout",
     "output_type": "stream",
     "text": [
      "4\n",
      "['18 § 6106', '18 § 6108', '18 § 3921', '18 § 3925']\n"
     ]
    }
   ],
   "source": [
    "for t in test_strings:\n",
    "    m = re.findall(pattern, t)\n",
    "    \n",
    "    if len(m):\n",
    "        print(len(m))\n",
    "        print(m)\n",
    "    else:\n",
    "        print('None found')\n",
    "    \n",
    "    #\n",
    "    #if m and m.group():\n",
    "    #    print(m.group())\n",
    "    #else:\n",
    "    #    print('---fail---')"
   ]
  },
  {
   "cell_type": "code",
   "execution_count": 10,
   "metadata": {},
   "outputs": [
    {
     "name": "stdout",
     "output_type": "stream",
     "text": [
      "['guru99']\n"
     ]
    }
   ],
   "source": []
  },
  {
   "cell_type": "code",
   "execution_count": 69,
   "metadata": {},
   "outputs": [
    {
     "name": "stdout",
     "output_type": "stream",
     "text": [
      "0\n"
     ]
    }
   ],
   "source": [
    "print (len(\"\"))"
   ]
  },
  {
   "cell_type": "code",
   "execution_count": 72,
   "metadata": {},
   "outputs": [
    {
     "name": "stdout",
     "output_type": "stream",
     "text": [
      "foo\n"
     ]
    }
   ],
   "source": [
    "if len(\"asd\"): print('foo')"
   ]
  },
  {
   "cell_type": "code",
   "execution_count": null,
   "metadata": {},
   "outputs": [],
   "source": []
  }
 ],
 "metadata": {
  "kernelspec": {
   "display_name": "Python 3",
   "language": "python",
   "name": "python3"
  },
  "language_info": {
   "codemirror_mode": {
    "name": "ipython",
    "version": 3
   },
   "file_extension": ".py",
   "mimetype": "text/x-python",
   "name": "python",
   "nbconvert_exporter": "python",
   "pygments_lexer": "ipython3",
   "version": "3.7.3"
  }
 },
 "nbformat": 4,
 "nbformat_minor": 2
}
