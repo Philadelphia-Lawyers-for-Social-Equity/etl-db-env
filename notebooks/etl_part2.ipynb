{
 "cells": [
  {
   "cell_type": "markdown",
   "metadata": {},
   "source": [
    "# PLSE ETL - Part 2: Scraping PDFs to DB\n",
    "Note: Using Sample Data Set (count=199)"
   ]
  },
  {
   "cell_type": "code",
   "execution_count": 168,
   "metadata": {},
   "outputs": [],
   "source": [
    "from PyPDF2 import PdfFileReader"
   ]
  },
  {
   "cell_type": "code",
   "execution_count": 169,
   "metadata": {},
   "outputs": [],
   "source": [
    "from os import listdir\n",
    "from os.path import isfile, join"
   ]
  },
  {
   "cell_type": "code",
   "execution_count": 170,
   "metadata": {},
   "outputs": [],
   "source": [
    "import re"
   ]
  },
  {
   "cell_type": "code",
   "execution_count": 171,
   "metadata": {},
   "outputs": [],
   "source": [
    "path_to_dockets = '../tmp/sample_dockets'"
   ]
  },
  {
   "cell_type": "code",
   "execution_count": 172,
   "metadata": {},
   "outputs": [],
   "source": [
    "dockets = [f for f in listdir(path_to_dockets) if isfile(join(path_to_dockets, f))]"
   ]
  },
  {
   "cell_type": "code",
   "execution_count": 173,
   "metadata": {},
   "outputs": [],
   "source": [
    "keys = ['_c0', 'CountyName', 'DocketNumber', 'FiledDate', 'LastName', 'FirstName', 'MiddleName', 'City', 'State', 'ZipCode', 'OffenseTrackingNumber', 'GenderCode', 'RaceCode', 'BirthDate', 'OriginatingOffenseSequence', 'StatuteType', 'StatuteTitle', 'StatuteSection', 'StatuteSubSection', 'InchoateStatuteTitle', 'InchoateStatuteSection', 'InchoateStatuteSubSection', 'OffenseDisposition', 'OffenseDate', 'OffenseDispositionDate', 'OffenseDescription', 'CaseDisposition', 'CaseDispositionDate', 'OffenseGrade', 'DisposingJudge']"
   ]
  },
  {
   "cell_type": "code",
   "execution_count": 174,
   "metadata": {},
   "outputs": [
    {
     "name": "stdout",
     "output_type": "stream",
     "text": [
      "_c0\n",
      "CountyName\n",
      "DocketNumber\n",
      "FiledDate\n",
      "LastName\n",
      "FirstName\n",
      "MiddleName\n",
      "City\n",
      "State\n",
      "ZipCode\n",
      "OffenseTrackingNumber\n",
      "GenderCode\n",
      "RaceCode\n",
      "BirthDate\n",
      "OriginatingOffenseSequence\n",
      "StatuteType\n",
      "StatuteTitle\n",
      "StatuteSection\n",
      "StatuteSubSection\n",
      "InchoateStatuteTitle\n",
      "InchoateStatuteSection\n",
      "InchoateStatuteSubSection\n",
      "OffenseDisposition\n",
      "OffenseDate\n",
      "OffenseDispositionDate\n",
      "OffenseDescription\n",
      "CaseDisposition\n",
      "CaseDispositionDate\n",
      "OffenseGrade\n",
      "DisposingJudge\n"
     ]
    }
   ],
   "source": [
    "for k in keys:\n",
    "    print(k)"
   ]
  },
  {
   "cell_type": "code",
   "execution_count": 221,
   "metadata": {},
   "outputs": [],
   "source": [
    "def compiled_pattern(pattern):\n",
    "    return re.compile(r'{}'.format(pattern))"
   ]
  },
  {
   "cell_type": "code",
   "execution_count": 297,
   "metadata": {},
   "outputs": [],
   "source": [
    "dn = re.compile(r'(?<=Docket\\sNumber\\:\\s)\\w{2}\\-\\d{2}\\-\\w{2}\\-\\d{7}\\-\\d{4}')"
   ]
  },
  {
   "cell_type": "code",
   "execution_count": 324,
   "metadata": {},
   "outputs": [],
   "source": [
    "fd = re.compile(r'(?<=Date\\sFiled\\:\\s{2})\\d{2}\\/\\d{2}\\/\\d{4}')"
   ]
  },
  {
   "cell_type": "code",
   "execution_count": 367,
   "metadata": {},
   "outputs": [],
   "source": [
    "keys = {\n",
    "    'DocketNumber': (dn, None),\n",
    "    'FiledDate': (fd, None)\n",
    "}"
   ]
  },
  {
   "cell_type": "code",
   "execution_count": 368,
   "metadata": {},
   "outputs": [],
   "source": [
    "def scrape_pdf(filename):\n",
    "    path = '{}/{}'.format(path_to_dockets, filename)\n",
    "\n",
    "    with open(path, 'rb') as f:\n",
    "        pdf = PdfFileReader(f)\n",
    "        #info = pdf.getDocumentInfo()\n",
    "        page_count = pdf.getNumPages()\n",
    "        \n",
    "        print(f)\n",
    "\n",
    "        for page in range(page_count):\n",
    "            page_data = pdf.getPage(page).extractText()\n",
    "            \n",
    "            for k in keys:\n",
    "                \n",
    "                if keys[k][1] is None:\n",
    "                    print('Scraping PDF for:', k)\n",
    "                \n",
    "                    m = re.search(keys[k][0], page_data)\n",
    "\n",
    "                    if m and m.group:\n",
    "                        print('Value found:', m.group())\n",
    "                        keys[k] = (keys[k][0], m.group())\n",
    "                # else:\n",
    "                    # the value has was previously successfully scrapped k `k`\n",
    "            "
   ]
  },
  {
   "cell_type": "code",
   "execution_count": 369,
   "metadata": {},
   "outputs": [
    {
     "name": "stdout",
     "output_type": "stream",
     "text": [
      "<_io.BufferedReader name='../tmp/sample_dockets/MC-51-CR-0307801-2003.pdf'>\n",
      "Scraping PDF for: DocketNumber\n",
      "Value found: MC-51-CR-0307801-2003\n",
      "Scraping PDF for: FiledDate\n",
      "Value found: 03/07/2003\n"
     ]
    }
   ],
   "source": [
    "f = scrape_pdf(dockets[0])"
   ]
  },
  {
   "cell_type": "code",
   "execution_count": 370,
   "metadata": {},
   "outputs": [
    {
     "name": "stdout",
     "output_type": "stream",
     "text": [
      "{'DocketNumber': (re.compile('(?<=Docket\\\\sNumber\\\\:\\\\s)\\\\w{2}\\\\-\\\\d{2}\\\\-\\\\w{2}\\\\-\\\\d{7}\\\\-\\\\d{4}'), 'MC-51-CR-0307801-2003'), 'FiledDate': (re.compile('(?<=Date\\\\sFiled\\\\:\\\\s{2})\\\\d{2}\\\\/\\\\d{2}\\\\/\\\\d{4}'), '03/07/2003')}\n"
     ]
    }
   ],
   "source": [
    "print(keys)"
   ]
  },
  {
   "cell_type": "code",
   "execution_count": 371,
   "metadata": {},
   "outputs": [
    {
     "name": "stdout",
     "output_type": "stream",
     "text": [
      "<_io.BufferedReader name='../tmp/sample_dockets/MC-51-CR-0307801-2003.pdf'>\n",
      "<_io.BufferedReader name='../tmp/sample_dockets/MC-51-CR-0108981-1996.pdf'>\n",
      "<_io.BufferedReader name='../tmp/sample_dockets/MC-51-CR-0224291-2002.pdf'>\n",
      "<_io.BufferedReader name='../tmp/sample_dockets/CP-51-CR-0100651-2003.pdf'>\n",
      "<_io.BufferedReader name='../tmp/sample_dockets/MC-51-CR-1205031-1994.pdf'>\n",
      "<_io.BufferedReader name='../tmp/sample_dockets/CP-51-MD-9992548-2002.pdf'>\n",
      "<_io.BufferedReader name='../tmp/sample_dockets/MC-51-SU-0004193-1994.pdf'>\n",
      "<_io.BufferedReader name='../tmp/sample_dockets/MC-51-SU-0001804-1985.pdf'>\n",
      "<_io.BufferedReader name='../tmp/sample_dockets/CP-51-CR-1003061-1978.pdf'>\n",
      "<_io.BufferedReader name='../tmp/sample_dockets/CP-51-CR-1200421-1997.pdf'>\n",
      "<_io.BufferedReader name='../tmp/sample_dockets/CP-51-CR-0805391-1994.pdf'>\n",
      "<_io.BufferedReader name='../tmp/sample_dockets/CP-51-CR-0101801-1975.pdf'>\n",
      "<_io.BufferedReader name='../tmp/sample_dockets/MC-51-CR-0915521-1986.pdf'>\n",
      "<_io.BufferedReader name='../tmp/sample_dockets/MC-51-CR-0434301-1985.pdf'>\n",
      "<_io.BufferedReader name='../tmp/sample_dockets/MC-51-CR-0401331-1981.pdf'>\n",
      "<_io.BufferedReader name='../tmp/sample_dockets/MC-51-CR-0104861-1997.pdf'>\n",
      "<_io.BufferedReader name='../tmp/sample_dockets/MC-51-CR-0921941-2004.pdf'>\n",
      "<_io.BufferedReader name='../tmp/sample_dockets/MC-51-CR-0614311-1987.pdf'>\n",
      "<_io.BufferedReader name='../tmp/sample_dockets/MC-51-CR-0315911-2002.pdf'>\n",
      "<_io.BufferedReader name='../tmp/sample_dockets/CP-51-CR-0100131-1989.pdf'>\n",
      "<_io.BufferedReader name='../tmp/sample_dockets/MC-51-SU-0002025-2002.pdf'>\n",
      "<_io.BufferedReader name='../tmp/sample_dockets/MC-51-SU-0003277-1994.pdf'>\n",
      "<_io.BufferedReader name='../tmp/sample_dockets/CP-51-CR-0113821-1990.pdf'>\n",
      "<_io.BufferedReader name='../tmp/sample_dockets/MC-51-CR-0324481-2001.pdf'>\n",
      "<_io.BufferedReader name='../tmp/sample_dockets/CP-51-CR-0100021-1995.pdf'>\n",
      "<_io.BufferedReader name='../tmp/sample_dockets/MC-51-CR-0124641-1989.pdf'>\n",
      "<_io.BufferedReader name='../tmp/sample_dockets/CP-51-CR-0805091-1999.pdf'>\n",
      "<_io.BufferedReader name='../tmp/sample_dockets/CP-51-CR-0100661-2004.pdf'>\n",
      "<_io.BufferedReader name='../tmp/sample_dockets/MC-51-SU-0001518-1992.pdf'>\n",
      "<_io.BufferedReader name='../tmp/sample_dockets/MC-51-SU-0003394-1977.pdf'>\n",
      "<_io.BufferedReader name='../tmp/sample_dockets/MC-51-SU-0001107-1982.pdf'>\n",
      "<_io.BufferedReader name='../tmp/sample_dockets/CP-51-CR-0611061-1983.pdf'>\n",
      "<_io.BufferedReader name='../tmp/sample_dockets/CP-51-CR-0101711-1981.pdf'>\n",
      "<_io.BufferedReader name='../tmp/sample_dockets/CP-51-CR-0802021-1995.pdf'>\n",
      "<_io.BufferedReader name='../tmp/sample_dockets/MC-51-SU-0004717-1989.pdf'>\n",
      "<_io.BufferedReader name='../tmp/sample_dockets/MC-51-SU-0000985-1987.pdf'>\n",
      "<_io.BufferedReader name='../tmp/sample_dockets/CP-51-MD-9996245-1998.pdf'>\n",
      "<_io.BufferedReader name='../tmp/sample_dockets/MC-51-CR-0310411-1977.pdf'>\n",
      "<_io.BufferedReader name='../tmp/sample_dockets/CP-51-CR-0100501-1994.pdf'>\n",
      "<_io.BufferedReader name='../tmp/sample_dockets/CP-51-CR-0100411-1991.pdf'>\n",
      "<_io.BufferedReader name='../tmp/sample_dockets/CP-51-CR-0100061-1999.pdf'>\n",
      "<_io.BufferedReader name='../tmp/sample_dockets/CP-51-MD-9990324-1998.pdf'>\n",
      "<_io.BufferedReader name='../tmp/sample_dockets/CP-51-CR-0100611-1980.pdf'>\n",
      "<_io.BufferedReader name='../tmp/sample_dockets/MC-51-SU-0000543-1991.pdf'>\n",
      "<_io.BufferedReader name='../tmp/sample_dockets/CP-51-CR-0100031-2003.pdf'>\n",
      "<_io.BufferedReader name='../tmp/sample_dockets/MC-51-SU-0003410-1995.pdf'>\n",
      "<_io.BufferedReader name='../tmp/sample_dockets/MC-51-SU-0004699-1989.pdf'>\n",
      "<_io.BufferedReader name='../tmp/sample_dockets/CP-51-CR-0120072-1985.pdf'>\n",
      "<_io.BufferedReader name='../tmp/sample_dockets/MC-51-CR-0107131-1978.pdf'>\n",
      "<_io.BufferedReader name='../tmp/sample_dockets/MC-51-CR-0131971-1999.pdf'>\n",
      "<_io.BufferedReader name='../tmp/sample_dockets/MC-51-SU-2100002-1998.pdf'>\n",
      "<_io.BufferedReader name='../tmp/sample_dockets/CP-51-MD-9990158-1999.pdf'>\n",
      "<_io.BufferedReader name='../tmp/sample_dockets/CP-51-CR-1111031-2001.pdf'>\n",
      "<_io.BufferedReader name='../tmp/sample_dockets/MC-51-CR-0235611-1982.pdf'>\n",
      "<_io.BufferedReader name='../tmp/sample_dockets/CP-51-CR-0109371-1982.pdf'>\n",
      "<_io.BufferedReader name='../tmp/sample_dockets/MC-51-CR-1254012-1998.pdf'>\n",
      "<_io.BufferedReader name='../tmp/sample_dockets/CP-51-CR-0103081-1979.pdf'>\n",
      "<_io.BufferedReader name='../tmp/sample_dockets/MC-51-CR-0417421-2001.pdf'>\n",
      "<_io.BufferedReader name='../tmp/sample_dockets/MC-51-CR-0312071-1996.pdf'>\n",
      "<_io.BufferedReader name='../tmp/sample_dockets/CP-51-CR-0321061-1981.pdf'>\n",
      "<_io.BufferedReader name='../tmp/sample_dockets/CP-51-MD-9007009-2003.pdf'>\n",
      "<_io.BufferedReader name='../tmp/sample_dockets/CP-51-CR-0814411-1986.pdf'>\n",
      "<_io.BufferedReader name='../tmp/sample_dockets/MC-51-CR-0132381-1977.pdf'>\n",
      "<_io.BufferedReader name='../tmp/sample_dockets/CP-51-MD-9007753-2004.pdf'>\n",
      "<_io.BufferedReader name='../tmp/sample_dockets/MC-51-SU-0001115-1982.pdf'>\n",
      "<_io.BufferedReader name='../tmp/sample_dockets/CP-51-CR-0100241-2002.pdf'>\n",
      "<_io.BufferedReader name='../tmp/sample_dockets/MC-51-SU-0001988-1996.pdf'>\n",
      "<_io.BufferedReader name='../tmp/sample_dockets/CP-51-CR-1110611-1998.pdf'>\n",
      "<_io.BufferedReader name='../tmp/sample_dockets/MC-51-SU-0001584-1975.pdf'>\n",
      "<_io.BufferedReader name='../tmp/sample_dockets/MC-51-CR-0334151-1975.pdf'>\n",
      "<_io.BufferedReader name='../tmp/sample_dockets/MC-51-CR-0114021-1983.pdf'>\n",
      "<_io.BufferedReader name='../tmp/sample_dockets/CP-51-CR-0105171-1980.pdf'>\n",
      "<_io.BufferedReader name='../tmp/sample_dockets/CP-51-CR-0502321-1996.pdf'>\n",
      "<_io.BufferedReader name='../tmp/sample_dockets/MC-51-CR-0429601-1995.pdf'>\n",
      "<_io.BufferedReader name='../tmp/sample_dockets/CP-51-CR-0100461-1999.pdf'>\n",
      "<_io.BufferedReader name='../tmp/sample_dockets/CP-51-CR-0100401-1983.pdf'>\n",
      "<_io.BufferedReader name='../tmp/sample_dockets/CP-51-MD-9995286-1999.pdf'>\n",
      "<_io.BufferedReader name='../tmp/sample_dockets/CP-51-CR-0702271-1996.pdf'>\n",
      "<_io.BufferedReader name='../tmp/sample_dockets/MC-51-CR-0625651-2000.pdf'>\n",
      "<_io.BufferedReader name='../tmp/sample_dockets/CP-51-CR-1006211-1979.pdf'>\n",
      "<_io.BufferedReader name='../tmp/sample_dockets/CP-51-CR-0103711-1985.pdf'>\n",
      "<_io.BufferedReader name='../tmp/sample_dockets/MC-51-MD-5000000-1999.pdf'>\n",
      "<_io.BufferedReader name='../tmp/sample_dockets/MC-51-SU-0001796-1985.pdf'>\n",
      "<_io.BufferedReader name='../tmp/sample_dockets/MC-51-CR-0129461-1989.pdf'>\n",
      "<_io.BufferedReader name='../tmp/sample_dockets/CP-51-CR-0100311-2000.pdf'>\n",
      "<_io.BufferedReader name='../tmp/sample_dockets/CP-51-MD-9990281-1998.pdf'>\n",
      "<_io.BufferedReader name='../tmp/sample_dockets/CP-51-MD-9991380-2000.pdf'>\n",
      "<_io.BufferedReader name='../tmp/sample_dockets/CP-51-CR-1122811-1975.pdf'>\n",
      "<_io.BufferedReader name='../tmp/sample_dockets/MC-51-SU-0000001-1976.pdf'>\n",
      "<_io.BufferedReader name='../tmp/sample_dockets/CP-51-CR-0713541-1993.pdf'>\n",
      "<_io.BufferedReader name='../tmp/sample_dockets/CP-51-MD-9991356-2000.pdf'>\n",
      "<_io.BufferedReader name='../tmp/sample_dockets/MC-51-SU-0005801-2003.pdf'>\n",
      "<_io.BufferedReader name='../tmp/sample_dockets/MC-51-SU-0002189-1986.pdf'>\n",
      "<_io.BufferedReader name='../tmp/sample_dockets/MC-51-CR-0115461-1980.pdf'>\n",
      "<_io.BufferedReader name='../tmp/sample_dockets/MC-51-CR-0201801-1980.pdf'>\n",
      "<_io.BufferedReader name='../tmp/sample_dockets/CP-51-CR-0103001-1977.pdf'>\n",
      "<_io.BufferedReader name='../tmp/sample_dockets/MC-51-CR-0112781-1982.pdf'>\n",
      "<_io.BufferedReader name='../tmp/sample_dockets/MC-51-CR-0117881-1977.pdf'>\n",
      "<_io.BufferedReader name='../tmp/sample_dockets/MC-51-CR-0110651-1991.pdf'>\n",
      "<_io.BufferedReader name='../tmp/sample_dockets/CP-51-CR-0112611-1991.pdf'>\n",
      "<_io.BufferedReader name='../tmp/sample_dockets/CP-51-CR-1107371-1984.pdf'>\n",
      "<_io.BufferedReader name='../tmp/sample_dockets/MC-51-CR-0106271-1995.pdf'>\n",
      "<_io.BufferedReader name='../tmp/sample_dockets/MC-51-CR-0505411-1993.pdf'>\n",
      "<_io.BufferedReader name='../tmp/sample_dockets/CP-51-CR-0100021-2000.pdf'>\n",
      "<_io.BufferedReader name='../tmp/sample_dockets/CP-51-MD-9992588-2002.pdf'>\n",
      "<_io.BufferedReader name='../tmp/sample_dockets/CP-51-CR-1008972-2002.pdf'>\n",
      "<_io.BufferedReader name='../tmp/sample_dockets/MC-51-CR-0400051-1989.pdf'>\n",
      "<_io.BufferedReader name='../tmp/sample_dockets/CP-51-CR-0200691-1977.pdf'>\n",
      "<_io.BufferedReader name='../tmp/sample_dockets/CP-51-CR-0104941-1986.pdf'>\n",
      "<_io.BufferedReader name='../tmp/sample_dockets/MC-51-CR-0507721-1983.pdf'>\n",
      "<_io.BufferedReader name='../tmp/sample_dockets/MC-51-SU-0002625-1987.pdf'>\n",
      "<_io.BufferedReader name='../tmp/sample_dockets/CP-51-CR-0100171-1993.pdf'>\n",
      "<_io.BufferedReader name='../tmp/sample_dockets/MC-51-CR-1108281-1986.pdf'>\n",
      "<_io.BufferedReader name='../tmp/sample_dockets/CP-51-CR-0126921-1992.pdf'>\n",
      "<_io.BufferedReader name='../tmp/sample_dockets/MC-51-CR-0116571-1978.pdf'>\n",
      "<_io.BufferedReader name='../tmp/sample_dockets/MC-51-SU-2100001-1999.pdf'>\n",
      "<_io.BufferedReader name='../tmp/sample_dockets/CP-51-MD-9006959-2003.pdf'>\n",
      "<_io.BufferedReader name='../tmp/sample_dockets/CP-51-CR-0100501-1988.pdf'>\n",
      "<_io.BufferedReader name='../tmp/sample_dockets/MC-51-MD-5000004-1999.pdf'>\n",
      "<_io.BufferedReader name='../tmp/sample_dockets/CP-51-CR-0127281-1992.pdf'>\n",
      "<_io.BufferedReader name='../tmp/sample_dockets/MC-51-CR-0420991-1987.pdf'>\n",
      "<_io.BufferedReader name='../tmp/sample_dockets/CP-51-CR-0714051-1976.pdf'>\n",
      "<_io.BufferedReader name='../tmp/sample_dockets/MC-51-SU-0002008-1996.pdf'>\n",
      "<_io.BufferedReader name='../tmp/sample_dockets/CP-51-CR-0104821-1982.pdf'>\n",
      "Something else went wrong\n",
      "<_io.BufferedReader name='../tmp/sample_dockets/MC-51-CR-0520121-1990.pdf'>\n",
      "<_io.BufferedReader name='../tmp/sample_dockets/MC-51-CR-0116651-1998.pdf'>\n",
      "<_io.BufferedReader name='../tmp/sample_dockets/MC-51-SU-0001565-1992.pdf'>\n",
      "<_io.BufferedReader name='../tmp/sample_dockets/MC-51-CR-0707561-1985.pdf'>\n",
      "<_io.BufferedReader name='../tmp/sample_dockets/MC-51-CR-0114181-1981.pdf'>\n",
      "<_io.BufferedReader name='../tmp/sample_dockets/MC-51-SU-0003427-1995.pdf'>\n",
      "<_io.BufferedReader name='../tmp/sample_dockets/MC-51-SU-0002215-1986.pdf'>\n",
      "<_io.BufferedReader name='../tmp/sample_dockets/MC-51-SU-0004530-1990.pdf'>\n",
      "<_io.BufferedReader name='../tmp/sample_dockets/MC-51-SU-0000298-1979.pdf'>\n",
      "<_io.BufferedReader name='../tmp/sample_dockets/MC-51-CR-0121831-2001.pdf'>\n",
      "<_io.BufferedReader name='../tmp/sample_dockets/MC-51-SU-0003353-1988.pdf'>\n",
      "<_io.BufferedReader name='../tmp/sample_dockets/MC-51-CR-0417051-2001.pdf'>\n",
      "<_io.BufferedReader name='../tmp/sample_dockets/MC-51-MD-1023001-2000.pdf'>\n",
      "<_io.BufferedReader name='../tmp/sample_dockets/MC-51-SU-0004419-2004.pdf'>\n",
      "<_io.BufferedReader name='../tmp/sample_dockets/MC-51-SU-0000297-1979.pdf'>\n",
      "<_io.BufferedReader name='../tmp/sample_dockets/MC-51-SU-0004255-1993.pdf'>\n",
      "<_io.BufferedReader name='../tmp/sample_dockets/MC-51-SU-0001345-1983.pdf'>\n",
      "<_io.BufferedReader name='../tmp/sample_dockets/MC-51-SU-0000522-1991.pdf'>\n",
      "<_io.BufferedReader name='../tmp/sample_dockets/CP-51-MD-9993844-2001.pdf'>\n",
      "<_io.BufferedReader name='../tmp/sample_dockets/MC-51-SU-0001556-1975.pdf'>\n",
      "<_io.BufferedReader name='../tmp/sample_dockets/MC-51-CR-0815881-1984.pdf'>\n",
      "<_io.BufferedReader name='../tmp/sample_dockets/CP-51-MD-9007800-2004.pdf'>\n",
      "<_io.BufferedReader name='../tmp/sample_dockets/MC-51-CR-0108031-1979.pdf'>\n",
      "<_io.BufferedReader name='../tmp/sample_dockets/MC-51-SU-0002005-2002.pdf'>\n",
      "<_io.BufferedReader name='../tmp/sample_dockets/MC-51-CR-0110111-1991.pdf'>\n",
      "<_io.BufferedReader name='../tmp/sample_dockets/CP-51-CR-0104981-1978.pdf'>\n",
      "<_io.BufferedReader name='../tmp/sample_dockets/CP-51-CR-0727221-1990.pdf'>\n",
      "<_io.BufferedReader name='../tmp/sample_dockets/MC-51-CR-0333901-1976.pdf'>\n",
      "<_io.BufferedReader name='../tmp/sample_dockets/MC-51-SU-0003370-1988.pdf'>\n",
      "<_io.BufferedReader name='../tmp/sample_dockets/CP-51-MD-9993889-2001.pdf'>\n",
      "<_io.BufferedReader name='../tmp/sample_dockets/MC-51-CR-0246381-1999.pdf'>\n",
      "<_io.BufferedReader name='../tmp/sample_dockets/MC-51-SU-0001345-1978.pdf'>\n",
      "<_io.BufferedReader name='../tmp/sample_dockets/MC-51-CR-0128961-1992.pdf'>\n",
      "<_io.BufferedReader name='../tmp/sample_dockets/MC-51-MD-9916501-2000.pdf'>\n",
      "<_io.BufferedReader name='../tmp/sample_dockets/MC-51-SU-0001354-1983.pdf'>\n",
      "<_io.BufferedReader name='../tmp/sample_dockets/CP-51-CR-0100391-1984.pdf'>\n",
      "<_io.BufferedReader name='../tmp/sample_dockets/MC-51-CR-0402131-2004.pdf'>\n",
      "<_io.BufferedReader name='../tmp/sample_dockets/CP-51-CR-0100281-2001.pdf'>\n",
      "<_io.BufferedReader name='../tmp/sample_dockets/MC-51-SU-0003238-2004.pdf'>\n",
      "<_io.BufferedReader name='../tmp/sample_dockets/CP-51-CR-0321461-1987.pdf'>\n",
      "<_io.BufferedReader name='../tmp/sample_dockets/MC-51-CR-0115931-1988.pdf'>\n",
      "<_io.BufferedReader name='../tmp/sample_dockets/CP-51-CR-0502931-1999.pdf'>\n",
      "<_io.BufferedReader name='../tmp/sample_dockets/MC-51-CR-0203561-1993.pdf'>\n",
      "<_io.BufferedReader name='../tmp/sample_dockets/MC-51-CR-0113071-1996.pdf'>\n",
      "<_io.BufferedReader name='../tmp/sample_dockets/MC-51-CR-0206581-1994.pdf'>\n",
      "<_io.BufferedReader name='../tmp/sample_dockets/MC-51-CR-0204861-1976.pdf'>\n",
      "<_io.BufferedReader name='../tmp/sample_dockets/MC-51-CR-0615611-1988.pdf'>\n",
      "<_io.BufferedReader name='../tmp/sample_dockets/MC-51-SU-0002032-1976.pdf'>\n",
      "<_io.BufferedReader name='../tmp/sample_dockets/MC-51-SU-0005530-2003.pdf'>\n",
      "<_io.BufferedReader name='../tmp/sample_dockets/CP-51-CR-0100011-1998.pdf'>\n",
      "<_io.BufferedReader name='../tmp/sample_dockets/MC-51-CR-0114871-1987.pdf'>\n",
      "<_io.BufferedReader name='../tmp/sample_dockets/MC-51-SU-2100001-1998.pdf'>\n",
      "<_io.BufferedReader name='../tmp/sample_dockets/CP-51-CR-0101711-2004.pdf'>\n",
      "<_io.BufferedReader name='../tmp/sample_dockets/MC-51-CR-0117341-1998.pdf'>\n",
      "<_io.BufferedReader name='../tmp/sample_dockets/MC-51-CR-0326301-1992.pdf'>\n",
      "<_io.BufferedReader name='../tmp/sample_dockets/MC-51-CR-0151531-2003.pdf'>\n",
      "<_io.BufferedReader name='../tmp/sample_dockets/CP-51-CR-0100271-1997.pdf'>\n",
      "<_io.BufferedReader name='../tmp/sample_dockets/MC-51-CR-0312581-1996.pdf'>\n",
      "<_io.BufferedReader name='../tmp/sample_dockets/MC-51-CR-0116251-1975.pdf'>\n",
      "<_io.BufferedReader name='../tmp/sample_dockets/CP-51-CR-0807251-1988.pdf'>\n",
      "<_io.BufferedReader name='../tmp/sample_dockets/CP-51-CR-0120001-1985.pdf'>\n",
      "<_io.BufferedReader name='../tmp/sample_dockets/MC-51-SU-2100001-1984.pdf'>\n",
      "<_io.BufferedReader name='../tmp/sample_dockets/MC-51-CR-0353991-2000.pdf'>\n",
      "<_io.BufferedReader name='../tmp/sample_dockets/MC-51-SU-0002672-1993.pdf'>\n",
      "<_io.BufferedReader name='../tmp/sample_dockets/MC-51-CR-0225631-1979.pdf'>\n",
      "<_io.BufferedReader name='../tmp/sample_dockets/MC-51-MD-9916497-2000.pdf'>\n",
      "<_io.BufferedReader name='../tmp/sample_dockets/MC-51-CR-0318791-1997.pdf'>\n",
      "<_io.BufferedReader name='../tmp/sample_dockets/CP-51-CR-0100381-1987.pdf'>\n",
      "<_io.BufferedReader name='../tmp/sample_dockets/MC-51-SU-0001899-1977.pdf'>\n",
      "<_io.BufferedReader name='../tmp/sample_dockets/MC-51-CR-0202921-2000.pdf'>\n",
      "<_io.BufferedReader name='../tmp/sample_dockets/MC-51-SU-0001444-1978.pdf'>\n",
      "<_io.BufferedReader name='../tmp/sample_dockets/MC-51-CR-0121821-1984.pdf'>\n",
      "<_io.BufferedReader name='../tmp/sample_dockets/CP-51-CR-0605011-1989.pdf'>\n",
      "<_io.BufferedReader name='../tmp/sample_dockets/CP-51-CR-0100381-1976.pdf'>\n"
     ]
    }
   ],
   "source": [
    "for docket in dockets:\n",
    "    # @todo @maybe validate `docket` type and path? or extend the declaration of `dockets` to validate?\n",
    "    # @todo catch and handle PdfReadError: EOF marker not found, currently breaks loop\n",
    "    try:\n",
    "      scrape_pdf(docket)\n",
    "    except:\n",
    "      print(\"Something else went wrong\") "
   ]
  },
  {
   "cell_type": "code",
   "execution_count": 131,
   "metadata": {},
   "outputs": [
    {
     "ename": "AttributeError",
     "evalue": "'NoneType' object has no attribute 'findall'",
     "output_type": "error",
     "traceback": [
      "\u001b[0;31m---------------------------------------------------------------------------\u001b[0m",
      "\u001b[0;31mAttributeError\u001b[0m                            Traceback (most recent call last)",
      "\u001b[0;32m<ipython-input-131-47e1fb60f9fe>\u001b[0m in \u001b[0;36m<module>\u001b[0;34m\u001b[0m\n\u001b[0;32m----> 1\u001b[0;31m \u001b[0mr1\u001b[0m \u001b[0;34m=\u001b[0m \u001b[0mf\u001b[0m\u001b[0;34m.\u001b[0m\u001b[0mfindall\u001b[0m\u001b[0;34m(\u001b[0m\u001b[0;34mr\"^\\w+\"\u001b[0m\u001b[0;34m,\u001b[0m\u001b[0mxx\u001b[0m\u001b[0;34m)\u001b[0m\u001b[0;34m\u001b[0m\u001b[0;34m\u001b[0m\u001b[0m\n\u001b[0m\u001b[1;32m      2\u001b[0m \u001b[0mprint\u001b[0m\u001b[0;34m(\u001b[0m\u001b[0mr1\u001b[0m\u001b[0;34m)\u001b[0m\u001b[0;34m\u001b[0m\u001b[0;34m\u001b[0m\u001b[0m\n",
      "\u001b[0;31mAttributeError\u001b[0m: 'NoneType' object has no attribute 'findall'"
     ]
    }
   ],
   "source": []
  },
  {
   "cell_type": "code",
   "execution_count": null,
   "metadata": {},
   "outputs": [],
   "source": []
  }
 ],
 "metadata": {
  "kernelspec": {
   "display_name": "Python 3",
   "language": "python",
   "name": "python3"
  },
  "language_info": {
   "codemirror_mode": {
    "name": "ipython",
    "version": 3
   },
   "file_extension": ".py",
   "mimetype": "text/x-python",
   "name": "python",
   "nbconvert_exporter": "python",
   "pygments_lexer": "ipython3",
   "version": "3.6.8"
  }
 },
 "nbformat": 4,
 "nbformat_minor": 2
}
