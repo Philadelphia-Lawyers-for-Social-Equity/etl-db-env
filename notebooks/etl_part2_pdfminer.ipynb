{
 "cells": [
  {
   "cell_type": "code",
   "execution_count": 1,
   "metadata": {},
   "outputs": [],
   "source": [
    "# @note Python 3 req. ```pip install pdfminer.six```\n",
    "# https://buildmedia.readthedocs.org/media/pdf/pdfminer-docs/latest/pdfminer-docs.pdf\n",
    "import subprocess"
   ]
  },
  {
   "cell_type": "code",
   "execution_count": null,
   "metadata": {},
   "outputs": [],
   "source": [
    "# pdf2txt.py -o tmp/sample_dockets/extracted/MC-51-CR-0434301-1985.txt tmp/sample_dockets/MC-51-CR-0434301-1985.pdf"
   ]
  },
  {
   "cell_type": "code",
   "execution_count": 2,
   "metadata": {},
   "outputs": [
    {
     "name": "stdout",
     "output_type": "stream",
     "text": [
      "Have 67 bytes in output\n",
      "b'etl_part1.ipynb\\netl_part2.ipynb\\nregex_testing.ipynb\\nUntitled.ipynb\\n'\n"
     ]
    }
   ],
   "source": [
    "output = subprocess.check_output(['ls', '-1'])\n",
    "print('Have %d bytes in output' % len(output))\n",
    "print(output)"
   ]
  },
  {
   "cell_type": "code",
   "execution_count": 6,
   "metadata": {},
   "outputs": [],
   "source": [
    "path_to_src = '../tmp/sample_dockets'\n",
    "path_to_dest = '../tmp/sample_dockets/extracted'"
   ]
  },
  {
   "cell_type": "code",
   "execution_count": 7,
   "metadata": {},
   "outputs": [],
   "source": [
    "file = 'MC-51-CR-0434301-1985'"
   ]
  },
  {
   "cell_type": "code",
   "execution_count": 8,
   "metadata": {},
   "outputs": [],
   "source": [
    "cmd = 'pdf2txt.py -o {}/{}.txt {}/{}.pdf'.format(path_to_dest, file, path_to_src, file)"
   ]
  },
  {
   "cell_type": "code",
   "execution_count": 9,
   "metadata": {},
   "outputs": [],
   "source": [
    "try:\n",
    "    subprocess.call(cmd, shell=True)\n",
    "except subprocess.CalledProcessError as e:\n",
    "    print(e.output)"
   ]
  },
  {
   "cell_type": "code",
   "execution_count": null,
   "metadata": {},
   "outputs": [],
   "source": []
  }
 ],
 "metadata": {
  "kernelspec": {
   "display_name": "Python 3",
   "language": "python",
   "name": "python3"
  },
  "language_info": {
   "codemirror_mode": {
    "name": "ipython",
    "version": 3
   },
   "file_extension": ".py",
   "mimetype": "text/x-python",
   "name": "python",
   "nbconvert_exporter": "python",
   "pygments_lexer": "ipython3",
   "version": "3.6.8"
  }
 },
 "nbformat": 4,
 "nbformat_minor": 2
}
