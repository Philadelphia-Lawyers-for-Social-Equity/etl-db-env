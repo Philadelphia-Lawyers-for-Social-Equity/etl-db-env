{
 "cells": [
  {
   "cell_type": "markdown",
   "metadata": {},
   "source": [
    "# PLSE ETL - Part 2: Scraping PDFs using _pdfminer_ library\n",
    "Note: Using Sample Data Set (count=199)"
   ]
  },
  {
   "cell_type": "code",
   "execution_count": null,
   "metadata": {},
   "outputs": [],
   "source": [
    "# @note Python 3 req. ```pip install pdfminer.six``` - https://buildmedia.readthedocs.org/media/pdf/pdfminer-docs/latest/pdfminer-docs.pdf\n",
    "import subprocess\n",
    "from os import makedirs, listdir\n",
    "from os.path import exists, isfile, join, splitext\n",
    "import re"
   ]
  },
  {
   "cell_type": "code",
   "execution_count": null,
   "metadata": {},
   "outputs": [],
   "source": [
    "def getGenericDatum(a, b):\n",
    "    c = re.search(a, b)\n",
    "    if c and c.group():\n",
    "        #print(c)\n",
    "        #print(len(c.group()))\n",
    "        print(c.group())\n",
    "    return"
   ]
  },
  {
   "cell_type": "code",
   "execution_count": null,
   "metadata": {},
   "outputs": [],
   "source": [
    "path_to_src = '../tmp/sample_dockets'\n",
    "path_to_dest = '../tmp/extracted'"
   ]
  },
  {
   "cell_type": "code",
   "execution_count": null,
   "metadata": {},
   "outputs": [],
   "source": [
    "if not exists(path_to_dest):\n",
    "    makedirs(path_to_dest)"
   ]
  },
  {
   "cell_type": "code",
   "execution_count": null,
   "metadata": {},
   "outputs": [],
   "source": [
    "dockets = [f for f in listdir(path_to_src) if isfile(join(path_to_src, f))]"
   ]
  },
  {
   "cell_type": "markdown",
   "metadata": {},
   "source": [
    "the loop below converts each sample docket from the given PDF format to a __single__ text file\n",
    "\n",
    "Note: dockets can span multiple pages"
   ]
  },
  {
   "cell_type": "code",
   "execution_count": null,
   "metadata": {},
   "outputs": [],
   "source": [
    "for docket in dockets:\n",
    "    try:\n",
    "        filename = splitext(docket)[0]\n",
    "        cmd = 'pdf2txt.py -o {}/{}.txt {}/{}.pdf'.format(path_to_dest, filename, path_to_src, filename)\n",
    "\n",
    "        subprocess.call(cmd, shell=True)\n",
    "\n",
    "        assert isfile('{}/{}.txt'.format(path_to_dest, filename)) is True, \"Text file failed to generate: %r\" % dest_file\n",
    "    except:\n",
    "        print(\"Something else went wrong...\")"
   ]
  },
  {
   "cell_type": "code",
   "execution_count": null,
   "metadata": {},
   "outputs": [],
   "source": [
    "dockets = [f for f in listdir(path_to_dest) if isfile(join(path_to_dest, f))]"
   ]
  },
  {
   "cell_type": "code",
   "execution_count": null,
   "metadata": {},
   "outputs": [],
   "source": [
    "docket_ref_a = 'CP-51-CR-0100031-2003.txt'"
   ]
  },
  {
   "cell_type": "code",
   "execution_count": null,
   "metadata": {},
   "outputs": [],
   "source": [
    "otn = re.compile('(?<=OTN\\:\\s{2})\\w\\s\\d{6}\\-\\d+')\n",
    "odn = re.compile('(?<=Docket\\sNumber\\:\\s)\\w{2}\\-\\d{2}\\-\\w{2}\\-\\d{7}\\-\\d{4}')\n",
    "df = re.compile('(?<=Date\\sFiled\\:\\s{2})\\d{2}\\/\\d{2}\\/\\d{4}')\n",
    "\n",
    "fullname = re.compile('(?<=Commonwealth\\sof\\sPennsylvania\\n\\nv\\.\\n\\n)(\\w|\\s)+(?=\\nCASE\\sINFORMATION)')"
   ]
  },
  {
   "cell_type": "code",
   "execution_count": null,
   "metadata": {},
   "outputs": [],
   "source": [
    "ja_test_strings = ['Judge Assigned: Temin, Carolyn Engel']\n",
    "ja = re.compile('(?<=Judge\\sAssigned\\:\\s{2})\\w+\\,\\s\\w+(\\s\\w\\.)?')"
   ]
  },
  {
   "cell_type": "code",
   "execution_count": null,
   "metadata": {},
   "outputs": [],
   "source": [
    "dispo_events = re.compile('[0-9]\\s\\/\\s[a-zA-Z0-9\\s\\/\\-]+') # OffenseDescription"
   ]
  },
  {
   "cell_type": "code",
   "execution_count": null,
   "metadata": {},
   "outputs": [],
   "source": [
    "statues = re.compile('[0-9]+\\s\\u00A7\\s[0-9]+')"
   ]
  },
  {
   "cell_type": "code",
   "execution_count": null,
   "metadata": {},
   "outputs": [],
   "source": [
    "def getEvents(a):\n",
    "    b = re.findall(dispo_events, a)\n",
    "    if len(b):\n",
    "        print(len(b), b)\n",
    "        \n",
    "    c = re.findall(statues, a)\n",
    "    if len(c):\n",
    "        print(len(c), c)      \n",
    "    return"
   ]
  },
  {
   "cell_type": "code",
   "execution_count": null,
   "metadata": {},
   "outputs": [],
   "source": [
    "#demo_docket = '{}/{}'.format(path_to_dest, docket_ref_a)#dockets[23])\n",
    "demo_docket = '{}/{}'.format(path_to_dest, dockets[103])\n",
    "print(demo_docket)"
   ]
  },
  {
   "cell_type": "code",
   "execution_count": null,
   "metadata": {},
   "outputs": [],
   "source": [
    "with open(demo_docket, 'r') as f:\n",
    "    #lines = f.readlines()\n",
    "    \n",
    "    data = f.read()\n",
    "    \n",
    "    print('\\n======= Scrapped Values\\n')    \n",
    "    \n",
    "    print('Generic:')\n",
    "    getGenericDatum(otn, data)\n",
    "    getGenericDatum(odn, data)\n",
    "    getGenericDatum(df, data)\n",
    "    getGenericDatum(ja, data)\n",
    "    getGenericDatum(fullname, data)\n",
    "    \n",
    "    print('Event:')\n",
    "    getEvents(data)\n",
    "\n",
    "    print('\\n======= Source\\n\\n', data)"
   ]
  },
  {
   "cell_type": "code",
   "execution_count": null,
   "metadata": {},
   "outputs": [],
   "source": []
  }
 ],
 "metadata": {
  "kernelspec": {
   "display_name": "Python 3",
   "language": "python",
   "name": "python3"
  },
  "language_info": {
   "codemirror_mode": {
    "name": "ipython",
    "version": 3
   },
   "file_extension": ".py",
   "mimetype": "text/x-python",
   "name": "python",
   "nbconvert_exporter": "python",
   "pygments_lexer": "ipython3",
   "version": "3.6.8"
  }
 },
 "nbformat": 4,
 "nbformat_minor": 2
}
