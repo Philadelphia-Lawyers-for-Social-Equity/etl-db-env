{
 "cells": [
  {
   "cell_type": "markdown",
   "metadata": {},
   "source": [
    "# PLSE ETL - Part 2: Scraping PDFs to DB\n",
    "Note: Using Sample Data Set (count=199)"
   ]
  },
  {
   "cell_type": "code",
   "execution_count": null,
   "metadata": {},
   "outputs": [],
   "source": [
    "from PyPDF2 import PdfFileReader"
   ]
  },
  {
   "cell_type": "code",
   "execution_count": null,
   "metadata": {},
   "outputs": [],
   "source": [
    "from os import listdir\n",
    "from os.path import isfile, join"
   ]
  },
  {
   "cell_type": "code",
   "execution_count": null,
   "metadata": {},
   "outputs": [],
   "source": [
    "import re"
   ]
  },
  {
   "cell_type": "code",
   "execution_count": null,
   "metadata": {},
   "outputs": [],
   "source": [
    "path_to_dockets = '../tmp/sample_dockets'"
   ]
  },
  {
   "cell_type": "code",
   "execution_count": null,
   "metadata": {},
   "outputs": [],
   "source": [
    "dockets = [f for f in listdir(path_to_dockets) if isfile(join(path_to_dockets, f))]"
   ]
  },
  {
   "cell_type": "code",
   "execution_count": null,
   "metadata": {},
   "outputs": [],
   "source": [
    "def compiled_pattern(pattern):\n",
    "    return re.compile(r'{}'.format(pattern))"
   ]
  },
  {
   "cell_type": "code",
   "execution_count": null,
   "metadata": {},
   "outputs": [],
   "source": []
  },
  {
   "cell_type": "code",
   "execution_count": null,
   "metadata": {},
   "outputs": [],
   "source": [
    "dn = '(?<=Docket\\sNumber\\:\\s)\\w{2}\\-\\d{2}\\-\\w{2}\\-\\d{7}\\-\\d{4}'\n",
    "dn_t = ['DOCKETDocket Number: MC-51-CR-0129461-1989Court Case']"
   ]
  },
  {
   "cell_type": "code",
   "execution_count": null,
   "metadata": {},
   "outputs": [],
   "source": [
    "fd = '(?<=Date\\sFiled\\:\\s{2})\\d{2}\\/\\d{2}\\/\\d{4}'\n",
    "fd_t = ['1989Date Filed:  01/25/1989Judge']"
   ]
  },
  {
   "cell_type": "code",
   "execution_count": null,
   "metadata": {},
   "outputs": [],
   "source": [
    "ja = '(?<=Judge\\sAssigned\\n\\:\\s{2})\\w+\\,\\s\\w+(\\s\\w\\.)?(?=Initiation\\sDate\\:)'\n",
    "ja_t = ['01/25/1989Judge Assigned\\n:  Kafrissen, Arthur S.Initiation Date:', '01/25/1989Judge Assigned\\n:  Kafrissen, ArthurInitiation Date:']"
   ]
  },
  {
   "cell_type": "code",
   "execution_count": null,
   "metadata": {},
   "outputs": [],
   "source": [
    "fml = '(?<=Pennsylvaniav\\.)(\\w|\\s)+(?=CASE)'\n",
    "fml_t = ['Commonwealth of Pennsylvaniav.Carl R BurchCASE INFORMATION', 'Pennsylvaniav.Raymond BlizzardCASE', 'Pennsylvaniav.Shakina Thompson\\nCASE INFORMATION']"
   ]
  },
  {
   "cell_type": "code",
   "execution_count": null,
   "metadata": {},
   "outputs": [],
   "source": [
    "otn = '(?<=OTN\\:\\s{2})\\w\\s\\d{6}\\-\\d+(?=Originating)'\n",
    "otn_t = ['2004 OTN:  N 247812-5Originating',\n",
    "        '1985 OTN:  Originating', # expected to \"fail\"\n",
    "        '2001 OTN:  N 069615-0Originating',\n",
    "        '1985 OTN:  M 226837-2Originating']"
   ]
  },
  {
   "cell_type": "code",
   "execution_count": null,
   "metadata": {},
   "outputs": [],
   "source": [
    "gen_regex = lambda x: re.compile(r'%s' % x)"
   ]
  },
  {
   "cell_type": "code",
   "execution_count": null,
   "metadata": {},
   "outputs": [],
   "source": []
  },
  {
   "cell_type": "code",
   "execution_count": null,
   "metadata": {},
   "outputs": [],
   "source": [
    "def gen_keys():\n",
    "    r = {\n",
    "        'DocketNumber': (gen_regex(dn), None),\n",
    "        'FiledDate': (gen_regex(fd), None),\n",
    "        'DisposingJudge': (gen_regex(ja), None),\n",
    "        'FullName': (gen_regex(fml), None), # needs to be split FirstName LastName MiddleName\n",
    "        'OffenseTrackingNumber': (gen_regex(otn), None)\n",
    "    }\n",
    "    \n",
    "    return r"
   ]
  },
  {
   "cell_type": "code",
   "execution_count": null,
   "metadata": {},
   "outputs": [],
   "source": [
    "result_stats = {\n",
    "    # \n",
    "}"
   ]
  },
  {
   "cell_type": "code",
   "execution_count": null,
   "metadata": {},
   "outputs": [],
   "source": [
    "def scrape_pdf(filename):\n",
    "    path = '{}/{}'.format(path_to_dockets, filename)\n",
    "    data_keys = gen_keys()\n",
    "    \n",
    "    with open(path, 'rb') as f:\n",
    "        pdf = PdfFileReader(f)\n",
    "        #info = pdf.getDocumentInfo()\n",
    "        page_count = pdf.getNumPages()\n",
    "        \n",
    "        print('File Path: {}'.format(f.name))\n",
    "\n",
    "        for p in range(page_count):\n",
    "            print('\\tPage', p)\n",
    "            \n",
    "            page_data = pdf.getPage(p).extractText()\n",
    "            # @note may have to replace `\\n` with `\\s`\n",
    "            print(page_data)\n",
    "            \n",
    "            for k in data_keys:\n",
    "                d = data_keys\n",
    "                \n",
    "                if d[k][1] is None:\n",
    "                    m = re.search(d[k][0], page_data)\n",
    "\n",
    "                    if m and m.group():\n",
    "                        print('\\t\\t{}: {}'.format(k, m.group()))\n",
    "                        d[k] = (d[k][0], m.group())\n",
    "            "
   ]
  },
  {
   "cell_type": "code",
   "execution_count": null,
   "metadata": {},
   "outputs": [],
   "source": [
    "f = scrape_pdf(dockets[13])"
   ]
  },
  {
   "cell_type": "code",
   "execution_count": null,
   "metadata": {},
   "outputs": [],
   "source": [
    "for docket in dockets:\n",
    "    try:\n",
    "        scrape_pdf(docket)\n",
    "    except:\n",
    "      print(\"Something else went wrong\") "
   ]
  },
  {
   "cell_type": "code",
   "execution_count": null,
   "metadata": {},
   "outputs": [],
   "source": []
  },
  {
   "cell_type": "code",
   "execution_count": null,
   "metadata": {},
   "outputs": [],
   "source": []
  },
  {
   "cell_type": "code",
   "execution_count": null,
   "metadata": {},
   "outputs": [],
   "source": []
  }
 ],
 "metadata": {
  "kernelspec": {
   "display_name": "Python 3",
   "language": "python",
   "name": "python3"
  },
  "language_info": {
   "codemirror_mode": {
    "name": "ipython",
    "version": 3
   },
   "file_extension": ".py",
   "mimetype": "text/x-python",
   "name": "python",
   "nbconvert_exporter": "python",
   "pygments_lexer": "ipython3",
   "version": "3.6.8"
  }
 },
 "nbformat": 4,
 "nbformat_minor": 2
}
