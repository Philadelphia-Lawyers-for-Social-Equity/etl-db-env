{
 "cells": [
  {
   "cell_type": "code",
   "execution_count": 4,
   "metadata": {},
   "outputs": [],
   "source": [
    "import re"
   ]
  },
  {
   "cell_type": "code",
   "execution_count": 76,
   "metadata": {},
   "outputs": [],
   "source": [
    "pattern = '(?<=OTN\\:\\s{2})\\w\\s\\d{6}\\-\\d+(?=Originating)'#(\\w|\\s)+(?=Originating)'\n",
    "\n",
    "test_strings = ['M 226837-204/25/1985 1 118 § 3701SIMPLE ASSAULT\\nM 226837-204/25/1985 2 218 § 2701CRIMINAL CONSPIRACY\\nM 226837-204/25/1985 3 318 § 903THEFT BY UNLAWFUL TAKING OR ']\n",
    "pattern = re.compile(r'%s' % pattern)"
   ]
  },
  {
   "cell_type": "code",
   "execution_count": 77,
   "metadata": {},
   "outputs": [
    {
     "name": "stdout",
     "output_type": "stream",
     "text": [
      "N 247812-5\n",
      "---fail---\n",
      "N 069615-0\n",
      "M 226837-2\n"
     ]
    }
   ],
   "source": [
    "for t in test_strings:\n",
    "    m = re.search(pattern, t)\n",
    "    if m and m.group():\n",
    "        print(m.group())\n",
    "    else:\n",
    "        print('---fail---')"
   ]
  },
  {
   "cell_type": "code",
   "execution_count": null,
   "metadata": {},
   "outputs": [],
   "source": []
  },
  {
   "cell_type": "code",
   "execution_count": null,
   "metadata": {},
   "outputs": [],
   "source": []
  }
 ],
 "metadata": {
  "kernelspec": {
   "display_name": "Python 3",
   "language": "python",
   "name": "python3"
  },
  "language_info": {
   "codemirror_mode": {
    "name": "ipython",
    "version": 3
   },
   "file_extension": ".py",
   "mimetype": "text/x-python",
   "name": "python",
   "nbconvert_exporter": "python",
   "pygments_lexer": "ipython3",
   "version": "3.6.8"
  }
 },
 "nbformat": 4,
 "nbformat_minor": 2
}
